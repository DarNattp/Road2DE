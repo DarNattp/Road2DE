{
 "cells": [
  {
   "cell_type": "markdown",
   "metadata": {
    "colab_type": "text",
    "id": "IRz06BvaPvio"
   },
   "source": [
    "# Data Collection: มาเก็บรวบรวมข้อมูลจากแหล่งต่าง ๆ (DB & REST API) กันเถอะ!"
   ]
  },
  {
   "cell_type": "markdown",
   "metadata": {
    "colab_type": "text",
    "id": "TiWl_xR-ffPb"
   },
   "source": [
    "# Get data from MySQL database"
   ]
  },
  {
   "cell_type": "markdown",
   "metadata": {
    "colab_type": "text",
    "id": "RwfG6lNbiO4d"
   },
   "source": [
    "## Install PyMySQL \n",
    "ซึ่งเป็น package สำหรับเชื่อมต่อ MySQL database"
   ]
  },
  {
   "cell_type": "code",
   "execution_count": 24,
   "metadata": {
    "colab": {},
    "colab_type": "code",
    "id": "8drOFF__cMAH"
   },
   "outputs": [
    {
     "name": "stdout",
     "output_type": "stream",
     "text": [
      "Requirement already satisfied: pymysql in c:\\users\\rayda\\anaconda3\\lib\\site-packages (0.9.3)\n",
      "Note: you may need to restart the kernel to use updated packages.\n"
     ]
    }
   ],
   "source": [
    "pip install pymysql"
   ]
  },
  {
   "cell_type": "markdown",
   "metadata": {
    "colab_type": "text",
    "id": "Cq7EWelaiWlO"
   },
   "source": [
    "## Config DB credential\n",
    "ಥ_ಥ  คำเตือน: Cell ด้านล่างนี้เป็นความลับสุดยอด เขียนขึ้นมาเพื่อให้เห็นวิธีการในการเชื่อมต่อ database เท่านั้น **ห้ามเอา \"plain text\"แบบนี้ไปใช้ในชีวิตจริง**\n",
    "\n",
    "มีข้อปฏิบัติในการเก็บรักษาไฟล์ที่เป็นความลับ (secret) ดังนี้\n",
    "*   **ห้าม**เขียน credential (ความลับ) ลงมาใน code ตรง ๆ\n",
    "*   **ห้าม** commit credential ลง Git เด็ดขาด\n",
    "*   credential ควรเป็น environment variable / ไฟล์ .env / หรือ config file ที่เหมาะสม\n",
    "*   **ห้าม** commit config file หรือ .env ไฟล์ดังกล่าวขึ้น Git ด้วย\n",
    "*   ควรใช้ระบบ secret management เพื่อเก็บ credential อย่างปลอดภัย เช่น Vault หรือ Secret Manager\n",
    "*   การขัดต่อคำแนะนำตามที่กล่าวมาถือว่าบาป\n",
    "\n"
   ]
  },
  {
   "cell_type": "code",
   "execution_count": 27,
   "metadata": {
    "colab": {},
    "colab_type": "code",
    "id": "0olv0dV9lCp_"
   },
   "outputs": [],
   "source": [
    "# TODO: ยอมเป็นคนบาปเพื่อการเรียนรู้\n",
    "class Config:\n",
    "  MYSQL_HOST = 'db4free.net'\n",
    "  MYSQL_PORT = 3306  # default port ของ MySQL คือ 3306\n",
    "  MYSQL_USER = 'datath'\n",
    "  MYSQL_PASSWORD = 'DataScience-chillchill'\n",
    "  MYSQL_DB = 'detraining'\n",
    "  MYSQL_CHARSET = 'utf8mb4'"
   ]
  },
  {
   "cell_type": "markdown",
   "metadata": {
    "colab_type": "text",
    "id": "Me00m6uBleCK"
   },
   "source": [
    "## Connect to DB\n",
    "หลังจากที่มี Credential ของ database แล้วก็ connectโลด"
   ]
  },
  {
   "cell_type": "code",
   "execution_count": 31,
   "metadata": {
    "colab": {},
    "colab_type": "code",
    "id": "nKxxuMyOltG3"
   },
   "outputs": [],
   "source": [
    "import pymysql.cursors\n",
    "\n",
    "# Connect to the database\n",
    "connection = pymysql.connect(host=Config.MYSQL_HOST,\n",
    "                             port=Config.MYSQL_PORT,\n",
    "                             user=Config.MYSQL_USER,\n",
    "                             password=Config.MYSQL_PASSWORD,\n",
    "                             db=Config.MYSQL_DB,\n",
    "                             charset=Config.MYSQL_CHARSET,\n",
    "                             cursorclass=pymysql.cursors.DictCursor)"
   ]
  },
  {
   "cell_type": "code",
   "execution_count": 32,
   "metadata": {},
   "outputs": [
    {
     "data": {
      "text/plain": [
       "<pymysql.connections.Connection at 0x1c63c04cc88>"
      ]
     },
     "execution_count": 32,
     "metadata": {},
     "output_type": "execute_result"
    }
   ],
   "source": [
    "connection"
   ]
  },
  {
   "cell_type": "markdown",
   "metadata": {
    "colab_type": "text",
    "id": "KorYr23fmGkb"
   },
   "source": [
    "ตัวแปร connection นี้ เราได้ connect ต่อเข้ากับ database เอาไว้แล้ว\n",
    "## List Tables\n",
    "เรามาลองดูกันว่ามี table อะไรในนั้นบ้าง"
   ]
  },
  {
   "cell_type": "code",
   "execution_count": 33,
   "metadata": {
    "colab": {},
    "colab_type": "code",
    "id": "nDCAHpiMnswl"
   },
   "outputs": [
    {
     "name": "stdout",
     "output_type": "stream",
     "text": [
      "[{'Tables_in_detraining': 'current_dept_emp'}, {'Tables_in_detraining': 'departments'}, {'Tables_in_detraining': 'dept_emp'}, {'Tables_in_detraining': 'dept_emp_latest_date'}, {'Tables_in_detraining': 'dept_manager'}, {'Tables_in_detraining': 'employees'}, {'Tables_in_detraining': 'online_retail'}, {'Tables_in_detraining': 'salaries'}, {'Tables_in_detraining': 'titles'}]\n"
     ]
    }
   ],
   "source": [
    "# list all tables\n",
    "cursor = connection.cursor()\n",
    "cursor.execute(\"show tables;\")\n",
    "tables = cursor.fetchall()\n",
    "cursor.close()\n",
    "print(tables)"
   ]
  },
  {
   "cell_type": "markdown",
   "metadata": {
    "colab_type": "text",
    "id": "44XAeezhn5g8"
   },
   "source": [
    "จากโค้ดตัวอย่างด้านบนจะเห็นได้ว่า การคิวรี่ database ทุกครั้ง เราจะต้องสร้าง `cursor` ขึ้นมาเพื่อ query SQL นั้น แล้วก็ปิด cursor ทุกครั้งหลังจบ \n",
    "\n",
    "(เหตุผลเป็นไปตามการออกแบบ database สามารถ[อ่านเกี่ยวกับ cursor เพิ่มเติมได้ที่นี่](https://en.wikipedia.org/wiki/Cursor_(databases)))\n",
    "\n",
    "ดังนั้น จึงนิยมใช้คำสั่ง `with` ในการจัดการสร้าง cursor ขึ้นมา เมื่อจบคำสั่ง cursor จะถูก close ไปเองโดยอัตโนมัติเมื่อออกนอก scope ของ `with`"
   ]
  },
  {
   "cell_type": "markdown",
   "metadata": {
    "colab_type": "text",
    "id": "iF4KnPH2phaN"
   },
   "source": [
    "༼ つ ◕_◕ ༽つ *ขอความกรุณาไม่ drop database หรือลบ data ออก เพราะ database นี้ใช้กันหลายคน :-)*\n",
    "\n",
    "## Query Table"
   ]
  },
  {
   "cell_type": "code",
   "execution_count": 34,
   "metadata": {
    "colab": {},
    "colab_type": "code",
    "id": "Iemb303DmFG7"
   },
   "outputs": [
    {
     "name": "stdout",
     "output_type": "stream",
     "text": [
      "number of rows:  161331 ⁀⊙﹏☉⁀\n"
     ]
    }
   ],
   "source": [
    "# ใข้ with statement แทน cursor.close()\n",
    "# TODO: มาลอง Query ข้อมูลจาก table online_retail ดูกัน\n",
    "\n",
    "with connection.cursor() as cursor:\n",
    "  # Read a single record\n",
    "  sql = \"SELECT * FROM online_retail\"\n",
    "  cursor.execute(sql)\n",
    "  result = cursor.fetchall()\n",
    "\n",
    "print(\"number of rows: \", len(result), \"⁀⊙﹏☉⁀\")"
   ]
  },
  {
   "cell_type": "markdown",
   "metadata": {
    "colab_type": "text",
    "id": "kwYVG6a8l4hN"
   },
   "source": [
    "Row เยอะแบบนี้ print ออกมาดูไม่ได้\n",
    "\n",
    "ใช้งานลำบากอีก ขอแนะนำว่า `Pandas` ช่วยคุณได้ ʕ•́ᴥ•̀ʔ\n",
    "\n",
    "## Convert to Pandas"
   ]
  },
  {
   "cell_type": "code",
   "execution_count": 35,
   "metadata": {
    "colab": {},
    "colab_type": "code",
    "id": "dQn-mQ49so4L"
   },
   "outputs": [],
   "source": [
    "import pandas as pd"
   ]
  },
  {
   "cell_type": "code",
   "execution_count": 37,
   "metadata": {
    "colab": {},
    "colab_type": "code",
    "id": "OKbf9_qCts4D"
   },
   "outputs": [],
   "source": [
    "retail = pd.DataFrame(result)"
   ]
  },
  {
   "cell_type": "markdown",
   "metadata": {
    "colab_type": "text",
    "id": "DPnnyI9HskCk"
   },
   "source": [
    "อ่าว เสร็จแล้วเหรอ ง่ายจัง ( ❛ ᴗ ❛ )\n",
    "\n",
    "เราก็ได้ data ของเรามาแล้ว"
   ]
  },
  {
   "cell_type": "code",
   "execution_count": 38,
   "metadata": {
    "colab": {},
    "colab_type": "code",
    "id": "O8TWjiZvtzzd"
   },
   "outputs": [
    {
     "data": {
      "text/html": [
       "<div>\n",
       "<style scoped>\n",
       "    .dataframe tbody tr th:only-of-type {\n",
       "        vertical-align: middle;\n",
       "    }\n",
       "\n",
       "    .dataframe tbody tr th {\n",
       "        vertical-align: top;\n",
       "    }\n",
       "\n",
       "    .dataframe thead th {\n",
       "        text-align: right;\n",
       "    }\n",
       "</style>\n",
       "<table border=\"1\" class=\"dataframe\">\n",
       "  <thead>\n",
       "    <tr style=\"text-align: right;\">\n",
       "      <th></th>\n",
       "      <th>InvoiceNo</th>\n",
       "      <th>StockCode</th>\n",
       "      <th>Description</th>\n",
       "      <th>Quantity</th>\n",
       "      <th>InvoiceDate</th>\n",
       "      <th>UnitPrice</th>\n",
       "      <th>CustomerID</th>\n",
       "      <th>Country</th>\n",
       "    </tr>\n",
       "  </thead>\n",
       "  <tbody>\n",
       "    <tr>\n",
       "      <th>0</th>\n",
       "      <td>536365</td>\n",
       "      <td>85123A</td>\n",
       "      <td>WHITE HANGING HEART T-LIGHT HOLDER</td>\n",
       "      <td>6</td>\n",
       "      <td>1/12/2018 08:26</td>\n",
       "      <td>2.55</td>\n",
       "      <td>17850.0</td>\n",
       "      <td>United Kingdom</td>\n",
       "    </tr>\n",
       "    <tr>\n",
       "      <th>1</th>\n",
       "      <td>536365</td>\n",
       "      <td>71053</td>\n",
       "      <td>WHITE METAL LANTERN</td>\n",
       "      <td>6</td>\n",
       "      <td>1/12/2018 08:26</td>\n",
       "      <td>3.39</td>\n",
       "      <td>17850.0</td>\n",
       "      <td>United Kingdom</td>\n",
       "    </tr>\n",
       "    <tr>\n",
       "      <th>2</th>\n",
       "      <td>536365</td>\n",
       "      <td>84406B</td>\n",
       "      <td>CREAM CUPID HEARTS COAT HANGER</td>\n",
       "      <td>8</td>\n",
       "      <td>1/12/2018 08:26</td>\n",
       "      <td>2.75</td>\n",
       "      <td>17850.0</td>\n",
       "      <td>United Kingdom</td>\n",
       "    </tr>\n",
       "    <tr>\n",
       "      <th>3</th>\n",
       "      <td>536365</td>\n",
       "      <td>84029G</td>\n",
       "      <td>KNITTED UNION FLAG HOT WATER BOTTLE</td>\n",
       "      <td>6</td>\n",
       "      <td>1/12/2018 08:26</td>\n",
       "      <td>3.39</td>\n",
       "      <td>17850.0</td>\n",
       "      <td>United Kingdom</td>\n",
       "    </tr>\n",
       "    <tr>\n",
       "      <th>4</th>\n",
       "      <td>536365</td>\n",
       "      <td>84029E</td>\n",
       "      <td>RED WOOLLY HOTTIE WHITE HEART.</td>\n",
       "      <td>6</td>\n",
       "      <td>1/12/2018 08:26</td>\n",
       "      <td>3.39</td>\n",
       "      <td>17850.0</td>\n",
       "      <td>United Kingdom</td>\n",
       "    </tr>\n",
       "  </tbody>\n",
       "</table>\n",
       "</div>"
      ],
      "text/plain": [
       "   InvoiceNo StockCode                          Description  Quantity  \\\n",
       "0     536365    85123A   WHITE HANGING HEART T-LIGHT HOLDER         6   \n",
       "1     536365     71053                  WHITE METAL LANTERN         6   \n",
       "2     536365    84406B       CREAM CUPID HEARTS COAT HANGER         8   \n",
       "3     536365    84029G  KNITTED UNION FLAG HOT WATER BOTTLE         6   \n",
       "4     536365    84029E       RED WOOLLY HOTTIE WHITE HEART.         6   \n",
       "\n",
       "       InvoiceDate  UnitPrice  CustomerID         Country  \n",
       "0  1/12/2018 08:26       2.55     17850.0  United Kingdom  \n",
       "1  1/12/2018 08:26       3.39     17850.0  United Kingdom  \n",
       "2  1/12/2018 08:26       2.75     17850.0  United Kingdom  \n",
       "3  1/12/2018 08:26       3.39     17850.0  United Kingdom  \n",
       "4  1/12/2018 08:26       3.39     17850.0  United Kingdom  "
      ]
     },
     "execution_count": 38,
     "metadata": {},
     "output_type": "execute_result"
    }
   ],
   "source": [
    "retail.head()"
   ]
  },
  {
   "cell_type": "code",
   "execution_count": 41,
   "metadata": {},
   "outputs": [
    {
     "name": "stdout",
     "output_type": "stream",
     "text": [
      "<class 'pandas.core.frame.DataFrame'>\n",
      "RangeIndex: 161331 entries, 0 to 161330\n",
      "Data columns (total 8 columns):\n",
      " #   Column       Non-Null Count   Dtype  \n",
      "---  ------       --------------   -----  \n",
      " 0   InvoiceNo    161331 non-null  int64  \n",
      " 1   StockCode    161331 non-null  object \n",
      " 2   Description  160701 non-null  object \n",
      " 3   Quantity     161331 non-null  int64  \n",
      " 4   InvoiceDate  161331 non-null  object \n",
      " 5   UnitPrice    161331 non-null  float64\n",
      " 6   CustomerID   111388 non-null  float64\n",
      " 7   Country      161331 non-null  object \n",
      "dtypes: float64(2), int64(2), object(4)\n",
      "memory usage: 9.8+ MB\n"
     ]
    }
   ],
   "source": [
    "retail.info()"
   ]
  },
  {
   "cell_type": "markdown",
   "metadata": {
    "colab_type": "text",
    "id": "vni1aTvqe1dY"
   },
   "source": [
    "\n",
    "\n",
    "---\n",
    "\n",
    "\n",
    "# Get data from REST API"
   ]
  },
  {
   "cell_type": "markdown",
   "metadata": {
    "colab_type": "text",
    "id": "9TJU3-dCl1_D"
   },
   "source": [
    "หลังจากต่อกับ Database แล้ว ก็มายิ่ง REST API กัน"
   ]
  },
  {
   "cell_type": "markdown",
   "metadata": {
    "colab_type": "text",
    "id": "K5NLiqJDcNSS"
   },
   "source": [
    "Package `requests` ใช้สำหรับการยิง REST API\n",
    "\n",
    "(โดยปกติต้อง install package นี้เพิ่มเติม แต่ colab pre-install ไว้อยู่แล้ว)\n",
    "\n",
    "วิธีการ install: `pip install requests`"
   ]
  },
  {
   "cell_type": "code",
   "execution_count": 42,
   "metadata": {
    "colab": {},
    "colab_type": "code",
    "id": "OFIraFVkb2g3"
   },
   "outputs": [],
   "source": [
    "import requests"
   ]
  },
  {
   "cell_type": "markdown",
   "metadata": {
    "colab_type": "text",
    "id": "0qE0ieb6b7oe"
   },
   "source": [
    "ลองคลิกดูผลลัพธ์ผ่าน web browser ได้ [Currency conversion API](https://de-training-2020-7au6fmnprq-de.a.run.app/currency_gbp/all) \n",
    "\n",
    "ผลลัพธ์ที่ return กลับมาจะเป็นประเภท JSON\n",
    "จึงต้องใช้ package `json` (built-in) เพื่อโหลดข้อมูลเป็น dictionary\n",
    "\n",
    "การที่เราสามารถยิง request และ output ออกมาได้เลยโดยที่ไม่ต้องสร้าง payload เพิ่ม ดังตัวอย่างนี้ เรียกว่า HTTP GET (ในกรณีอื่น ๆ สามารถเพิ่ม arguement หรือ query string เข้าไปใน URL ได้)\n",
    "\n",
    "## Requests library\n",
    "สามารถศึกษาวิธีการสร้าง request และการใช้งาน package `requests` [ได้ที่นี่](https://requests.readthedocs.io/en/master/)"
   ]
  },
  {
   "cell_type": "code",
   "execution_count": 45,
   "metadata": {
    "colab": {},
    "colab_type": "code",
    "id": "mID4KWhzcinC"
   },
   "outputs": [],
   "source": [
    "url = \"https://de-training-2020-7au6fmnprq-de.a.run.app/currency_gbp/all\"\n",
    "# TODO: ลองศึกษาวิธีการใช้งาน package requests จากลิ้งค์ด้านบน แล้วลองเขียนโค้ดเพื่อ call URL นี้\n",
    "\n",
    "response = requests.get(url, auth=('user', 'pass'))"
   ]
  },
  {
   "cell_type": "markdown",
   "metadata": {
    "colab_type": "text",
    "id": "AdlBxdY_g4eP"
   },
   "source": [
    "มาดูประเภทข้อมูลกัน"
   ]
  },
  {
   "cell_type": "code",
   "execution_count": 58,
   "metadata": {
    "colab": {},
    "colab_type": "code",
    "id": "XjVRTATxRSOc"
   },
   "outputs": [
    {
     "data": {
      "text/plain": [
       "str"
      ]
     },
     "execution_count": 58,
     "metadata": {},
     "output_type": "execute_result"
    }
   ],
   "source": [
    "type(response.text)"
   ]
  },
  {
   "cell_type": "markdown",
   "metadata": {
    "colab_type": "text",
    "id": "SupEh-Nnf-vx"
   },
   "source": [
    "## JSON loading\n",
    "แต่ JSON ที่เราเห็นมันเป็นเพียงแค่ string\n",
    "\n",
    "เราจะแปลง string ให้กลายเป็น dictionary!\n",
    "\n",
    "เราเลยต้อง import `json` (built-in package)"
   ]
  },
  {
   "cell_type": "code",
   "execution_count": 47,
   "metadata": {
    "colab": {},
    "colab_type": "code",
    "id": "nJ7Y156kf-An"
   },
   "outputs": [],
   "source": [
    "import json"
   ]
  },
  {
   "cell_type": "markdown",
   "metadata": {
    "colab_type": "text",
    "id": "WWpo8S1QgdEL"
   },
   "source": [
    "มาดูวิธีการใช้เลยดีกว่า สามารถกดดู help แบบนี้ได้ สำหรับ Jupyter notebook สะดวกสุด ๆ"
   ]
  },
  {
   "cell_type": "code",
   "execution_count": 48,
   "metadata": {
    "colab": {},
    "colab_type": "code",
    "id": "Ji4QXuDbgSY4"
   },
   "outputs": [],
   "source": [
    "? json"
   ]
  },
  {
   "cell_type": "code",
   "execution_count": 54,
   "metadata": {
    "colab": {},
    "colab_type": "code",
    "id": "iIsMgva_Py-n"
   },
   "outputs": [],
   "source": [
    "# TODO: ลองอ่าน string JSON ที่ได้รับ ให้กลายเป็น dictionary\n",
    "result = response.json()"
   ]
  },
  {
   "cell_type": "markdown",
   "metadata": {
    "colab_type": "text",
    "id": "KbGeUEVXR5Ye"
   },
   "source": [
    "มาเช็คประเภทข้อมูล"
   ]
  },
  {
   "cell_type": "code",
   "execution_count": 57,
   "metadata": {},
   "outputs": [
    {
     "data": {
      "text/plain": [
       "dict"
      ]
     },
     "execution_count": 57,
     "metadata": {},
     "output_type": "execute_result"
    }
   ],
   "source": [
    "type(result)"
   ]
  },
  {
   "cell_type": "code",
   "execution_count": 61,
   "metadata": {},
   "outputs": [
    {
     "data": {
      "text/plain": [
       "dict"
      ]
     },
     "execution_count": 61,
     "metadata": {},
     "output_type": "execute_result"
    }
   ],
   "source": [
    "result_conversion_rate = json.loads(response.text)\n",
    "type(result_conversion_rate)"
   ]
  },
  {
   "cell_type": "code",
   "execution_count": 62,
   "metadata": {
    "colab": {},
    "colab_type": "code",
    "id": "qgIGR8KoQOdB"
   },
   "outputs": [
    {
     "name": "stdout",
     "output_type": "stream",
     "text": [
      "<class 'dict'>\n"
     ]
    }
   ],
   "source": [
    "print(type(result_conversion_rate))\n",
    "assert isinstance(result_conversion_rate, dict)"
   ]
  },
  {
   "cell_type": "markdown",
   "metadata": {},
   "source": [
    "##สรุป ทำสองวิธี ให้ผลลัพธ์เหมือนกัน"
   ]
  },
  {
   "cell_type": "markdown",
   "metadata": {
    "colab_type": "text",
    "id": "Rxp9qo9OvbfO"
   },
   "source": [
    " ## Convert to Pandas\n",
    " แปลงกันอีกครั้งหนึ่ง ʕ•́ᴥ•̀ʔ"
   ]
  },
  {
   "cell_type": "code",
   "execution_count": 63,
   "metadata": {
    "colab": {},
    "colab_type": "code",
    "id": "QNcga24QusdA"
   },
   "outputs": [],
   "source": [
    "conversion_rate = pd.DataFrame.from_dict(result_conversion_rate)"
   ]
  },
  {
   "cell_type": "code",
   "execution_count": 64,
   "metadata": {
    "colab": {},
    "colab_type": "code",
    "id": "OoSiYqpWJDii"
   },
   "outputs": [
    {
     "data": {
      "text/html": [
       "<div>\n",
       "<style scoped>\n",
       "    .dataframe tbody tr th:only-of-type {\n",
       "        vertical-align: middle;\n",
       "    }\n",
       "\n",
       "    .dataframe tbody tr th {\n",
       "        vertical-align: top;\n",
       "    }\n",
       "\n",
       "    .dataframe thead th {\n",
       "        text-align: right;\n",
       "    }\n",
       "</style>\n",
       "<table border=\"1\" class=\"dataframe\">\n",
       "  <thead>\n",
       "    <tr style=\"text-align: right;\">\n",
       "      <th></th>\n",
       "      <th>Rate</th>\n",
       "    </tr>\n",
       "  </thead>\n",
       "  <tbody>\n",
       "    <tr>\n",
       "      <th>2018-01-01T00:00:00.000Z</th>\n",
       "      <td>43.9991</td>\n",
       "    </tr>\n",
       "    <tr>\n",
       "      <th>2018-01-02T00:00:00.000Z</th>\n",
       "      <td>44.0731</td>\n",
       "    </tr>\n",
       "    <tr>\n",
       "      <th>2018-01-03T00:00:00.000Z</th>\n",
       "      <td>43.7025</td>\n",
       "    </tr>\n",
       "  </tbody>\n",
       "</table>\n",
       "</div>"
      ],
      "text/plain": [
       "                             Rate\n",
       "2018-01-01T00:00:00.000Z  43.9991\n",
       "2018-01-02T00:00:00.000Z  44.0731\n",
       "2018-01-03T00:00:00.000Z  43.7025"
      ]
     },
     "execution_count": 64,
     "metadata": {},
     "output_type": "execute_result"
    }
   ],
   "source": [
    "conversion_rate[:3]"
   ]
  },
  {
   "cell_type": "code",
   "execution_count": 65,
   "metadata": {
    "colab": {},
    "colab_type": "code",
    "id": "-RqNiXKmJDhC"
   },
   "outputs": [
    {
     "data": {
      "text/html": [
       "<div>\n",
       "<style scoped>\n",
       "    .dataframe tbody tr th:only-of-type {\n",
       "        vertical-align: middle;\n",
       "    }\n",
       "\n",
       "    .dataframe tbody tr th {\n",
       "        vertical-align: top;\n",
       "    }\n",
       "\n",
       "    .dataframe thead th {\n",
       "        text-align: right;\n",
       "    }\n",
       "</style>\n",
       "<table border=\"1\" class=\"dataframe\">\n",
       "  <thead>\n",
       "    <tr style=\"text-align: right;\">\n",
       "      <th></th>\n",
       "      <th>date</th>\n",
       "      <th>Rate</th>\n",
       "    </tr>\n",
       "  </thead>\n",
       "  <tbody>\n",
       "    <tr>\n",
       "      <th>0</th>\n",
       "      <td>2018-01-01T00:00:00.000Z</td>\n",
       "      <td>43.9991</td>\n",
       "    </tr>\n",
       "    <tr>\n",
       "      <th>1</th>\n",
       "      <td>2018-01-02T00:00:00.000Z</td>\n",
       "      <td>44.0731</td>\n",
       "    </tr>\n",
       "    <tr>\n",
       "      <th>2</th>\n",
       "      <td>2018-01-03T00:00:00.000Z</td>\n",
       "      <td>43.7025</td>\n",
       "    </tr>\n",
       "  </tbody>\n",
       "</table>\n",
       "</div>"
      ],
      "text/plain": [
       "                       date     Rate\n",
       "0  2018-01-01T00:00:00.000Z  43.9991\n",
       "1  2018-01-02T00:00:00.000Z  44.0731\n",
       "2  2018-01-03T00:00:00.000Z  43.7025"
      ]
     },
     "execution_count": 65,
     "metadata": {},
     "output_type": "execute_result"
    }
   ],
   "source": [
    "conversion_rate = conversion_rate.reset_index().rename(columns={\"index\":\"date\"})\n",
    "conversion_rate[:3]"
   ]
  },
  {
   "cell_type": "code",
   "execution_count": 66,
   "metadata": {
    "colab": {},
    "colab_type": "code",
    "id": "A--M8efzJW9F"
   },
   "outputs": [
    {
     "data": {
      "text/html": [
       "<div>\n",
       "<style scoped>\n",
       "    .dataframe tbody tr th:only-of-type {\n",
       "        vertical-align: middle;\n",
       "    }\n",
       "\n",
       "    .dataframe tbody tr th {\n",
       "        vertical-align: top;\n",
       "    }\n",
       "\n",
       "    .dataframe thead th {\n",
       "        text-align: right;\n",
       "    }\n",
       "</style>\n",
       "<table border=\"1\" class=\"dataframe\">\n",
       "  <thead>\n",
       "    <tr style=\"text-align: right;\">\n",
       "      <th></th>\n",
       "      <th>date</th>\n",
       "      <th>Rate</th>\n",
       "    </tr>\n",
       "  </thead>\n",
       "  <tbody>\n",
       "    <tr>\n",
       "      <th>0</th>\n",
       "      <td>2018-01-01T00:00:00.000Z</td>\n",
       "      <td>43.9991</td>\n",
       "    </tr>\n",
       "    <tr>\n",
       "      <th>1</th>\n",
       "      <td>2018-01-02T00:00:00.000Z</td>\n",
       "      <td>44.0731</td>\n",
       "    </tr>\n",
       "    <tr>\n",
       "      <th>2</th>\n",
       "      <td>2018-01-03T00:00:00.000Z</td>\n",
       "      <td>43.7025</td>\n",
       "    </tr>\n",
       "  </tbody>\n",
       "</table>\n",
       "</div>"
      ],
      "text/plain": [
       "                       date     Rate\n",
       "0  2018-01-01T00:00:00.000Z  43.9991\n",
       "1  2018-01-02T00:00:00.000Z  44.0731\n",
       "2  2018-01-03T00:00:00.000Z  43.7025"
      ]
     },
     "execution_count": 66,
     "metadata": {},
     "output_type": "execute_result"
    }
   ],
   "source": [
    "conversion_rate[:3]"
   ]
  },
  {
   "cell_type": "markdown",
   "metadata": {
    "colab_type": "text",
    "id": "0NmC2QcQwFMz"
   },
   "source": [
    "ที่ต้องใช้ `.from_dict()` เพราะว่า ข้อมูลมี key ที่แตกต่างกันออกไป คือ index ที่เป็นเวลา เพราะฉะนั้น `.from_dict()` จึงเข้ามาช่วนการโหลดข้อมูลลักษณะแบบนี้"
   ]
  },
  {
   "cell_type": "code",
   "execution_count": 69,
   "metadata": {},
   "outputs": [
    {
     "data": {
      "text/html": [
       "<div>\n",
       "<style scoped>\n",
       "    .dataframe tbody tr th:only-of-type {\n",
       "        vertical-align: middle;\n",
       "    }\n",
       "\n",
       "    .dataframe tbody tr th {\n",
       "        vertical-align: top;\n",
       "    }\n",
       "\n",
       "    .dataframe thead th {\n",
       "        text-align: right;\n",
       "    }\n",
       "</style>\n",
       "<table border=\"1\" class=\"dataframe\">\n",
       "  <thead>\n",
       "    <tr style=\"text-align: right;\">\n",
       "      <th></th>\n",
       "      <th>InvoiceNo</th>\n",
       "      <th>StockCode</th>\n",
       "      <th>Description</th>\n",
       "      <th>Quantity</th>\n",
       "      <th>InvoiceDate</th>\n",
       "      <th>UnitPrice</th>\n",
       "      <th>CustomerID</th>\n",
       "      <th>Country</th>\n",
       "      <th>InvoiceTimestamp</th>\n",
       "    </tr>\n",
       "  </thead>\n",
       "  <tbody>\n",
       "    <tr>\n",
       "      <th>0</th>\n",
       "      <td>536365</td>\n",
       "      <td>85123A</td>\n",
       "      <td>WHITE HANGING HEART T-LIGHT HOLDER</td>\n",
       "      <td>6</td>\n",
       "      <td>1/12/2018 08:26</td>\n",
       "      <td>2.55</td>\n",
       "      <td>17850.0</td>\n",
       "      <td>United Kingdom</td>\n",
       "      <td>1/12/2018 08:26</td>\n",
       "    </tr>\n",
       "    <tr>\n",
       "      <th>1</th>\n",
       "      <td>536365</td>\n",
       "      <td>71053</td>\n",
       "      <td>WHITE METAL LANTERN</td>\n",
       "      <td>6</td>\n",
       "      <td>1/12/2018 08:26</td>\n",
       "      <td>3.39</td>\n",
       "      <td>17850.0</td>\n",
       "      <td>United Kingdom</td>\n",
       "      <td>1/12/2018 08:26</td>\n",
       "    </tr>\n",
       "    <tr>\n",
       "      <th>2</th>\n",
       "      <td>536365</td>\n",
       "      <td>84406B</td>\n",
       "      <td>CREAM CUPID HEARTS COAT HANGER</td>\n",
       "      <td>8</td>\n",
       "      <td>1/12/2018 08:26</td>\n",
       "      <td>2.75</td>\n",
       "      <td>17850.0</td>\n",
       "      <td>United Kingdom</td>\n",
       "      <td>1/12/2018 08:26</td>\n",
       "    </tr>\n",
       "    <tr>\n",
       "      <th>3</th>\n",
       "      <td>536365</td>\n",
       "      <td>84029G</td>\n",
       "      <td>KNITTED UNION FLAG HOT WATER BOTTLE</td>\n",
       "      <td>6</td>\n",
       "      <td>1/12/2018 08:26</td>\n",
       "      <td>3.39</td>\n",
       "      <td>17850.0</td>\n",
       "      <td>United Kingdom</td>\n",
       "      <td>1/12/2018 08:26</td>\n",
       "    </tr>\n",
       "    <tr>\n",
       "      <th>4</th>\n",
       "      <td>536365</td>\n",
       "      <td>84029E</td>\n",
       "      <td>RED WOOLLY HOTTIE WHITE HEART.</td>\n",
       "      <td>6</td>\n",
       "      <td>1/12/2018 08:26</td>\n",
       "      <td>3.39</td>\n",
       "      <td>17850.0</td>\n",
       "      <td>United Kingdom</td>\n",
       "      <td>1/12/2018 08:26</td>\n",
       "    </tr>\n",
       "  </tbody>\n",
       "</table>\n",
       "</div>"
      ],
      "text/plain": [
       "   InvoiceNo StockCode                          Description  Quantity  \\\n",
       "0     536365    85123A   WHITE HANGING HEART T-LIGHT HOLDER         6   \n",
       "1     536365     71053                  WHITE METAL LANTERN         6   \n",
       "2     536365    84406B       CREAM CUPID HEARTS COAT HANGER         8   \n",
       "3     536365    84029G  KNITTED UNION FLAG HOT WATER BOTTLE         6   \n",
       "4     536365    84029E       RED WOOLLY HOTTIE WHITE HEART.         6   \n",
       "\n",
       "       InvoiceDate  UnitPrice  CustomerID         Country InvoiceTimestamp  \n",
       "0  1/12/2018 08:26       2.55     17850.0  United Kingdom  1/12/2018 08:26  \n",
       "1  1/12/2018 08:26       3.39     17850.0  United Kingdom  1/12/2018 08:26  \n",
       "2  1/12/2018 08:26       2.75     17850.0  United Kingdom  1/12/2018 08:26  \n",
       "3  1/12/2018 08:26       3.39     17850.0  United Kingdom  1/12/2018 08:26  \n",
       "4  1/12/2018 08:26       3.39     17850.0  United Kingdom  1/12/2018 08:26  "
      ]
     },
     "execution_count": 69,
     "metadata": {},
     "output_type": "execute_result"
    }
   ],
   "source": [
    "retail.head()"
   ]
  },
  {
   "cell_type": "markdown",
   "metadata": {
    "colab_type": "text",
    "id": "-YEnRnb7vOER"
   },
   "source": [
    "# Join the data"
   ]
  },
  {
   "cell_type": "markdown",
   "metadata": {
    "colab_type": "text",
    "id": "QEGJeMebvTXD"
   },
   "source": [
    "ในตอนนี้เราจะนำข้อมูลการซื้อขายและข้อมูล Rate การแปลงค่าเงิน เราจะรวมข้อมูลจากทั้งสอง Dataframe มารวมกัน\n",
    "\n",
    "เราจะนำข้อมูลจากทั้งสองมารวมกันผ่าน column InvoiceDate ใน retail และ date ใน conversion_rate \n",
    "\n",
    "แต่ถ้าสังเกตดี ๆ แล้วจะพบว่า InvoiceDate ใน retail จะเก็บข้อมูลในรูปแบบ datetime ส่วน date ใน conversion_rate จะเก็บข้อมูลในรูปแบบ timestamp ที่ส่วนเวลาเป็นเวลา 00:00:00 ทั้งหมด"
   ]
  },
  {
   "cell_type": "code",
   "execution_count": 68,
   "metadata": {
    "colab": {},
    "colab_type": "code",
    "id": "jizZTTbblbC-"
   },
   "outputs": [],
   "source": [
    "# ก็อปปี้ column InvoiceDate เก็บเอาไว้ เผื่อได้ใช้ในอนาคต (อันใกล้) --> ไม่งั้นข้อมูล timestamp ของเราจะหายไป ಥ_ಥ\n",
    "retail['InvoiceTimestamp'] = retail['InvoiceDate']"
   ]
  },
  {
   "cell_type": "code",
   "execution_count": 70,
   "metadata": {
    "colab": {},
    "colab_type": "code",
    "id": "ns3DWsatNnA5"
   },
   "outputs": [],
   "source": [
    "# แปลงให้ InvoiceDate ใน retail กับ date ใน conversion_rate มีเฉพาะส่วน date ก่อน\n",
    "retail['InvoiceDate'] = pd.to_datetime(retail['InvoiceDate']).dt.date\n",
    "conversion_rate['date'] = pd.to_datetime(conversion_rate['date']).dt.date"
   ]
  },
  {
   "cell_type": "code",
   "execution_count": 71,
   "metadata": {
    "colab": {},
    "colab_type": "code",
    "id": "qzQvG2XB9map"
   },
   "outputs": [
    {
     "data": {
      "text/html": [
       "<div>\n",
       "<style scoped>\n",
       "    .dataframe tbody tr th:only-of-type {\n",
       "        vertical-align: middle;\n",
       "    }\n",
       "\n",
       "    .dataframe tbody tr th {\n",
       "        vertical-align: top;\n",
       "    }\n",
       "\n",
       "    .dataframe thead th {\n",
       "        text-align: right;\n",
       "    }\n",
       "</style>\n",
       "<table border=\"1\" class=\"dataframe\">\n",
       "  <thead>\n",
       "    <tr style=\"text-align: right;\">\n",
       "      <th></th>\n",
       "      <th>InvoiceNo</th>\n",
       "      <th>StockCode</th>\n",
       "      <th>Description</th>\n",
       "      <th>Quantity</th>\n",
       "      <th>InvoiceDate</th>\n",
       "      <th>UnitPrice</th>\n",
       "      <th>CustomerID</th>\n",
       "      <th>Country</th>\n",
       "      <th>InvoiceTimestamp</th>\n",
       "      <th>date</th>\n",
       "      <th>Rate</th>\n",
       "    </tr>\n",
       "  </thead>\n",
       "  <tbody>\n",
       "    <tr>\n",
       "      <th>0</th>\n",
       "      <td>536365</td>\n",
       "      <td>85123A</td>\n",
       "      <td>WHITE HANGING HEART T-LIGHT HOLDER</td>\n",
       "      <td>6</td>\n",
       "      <td>2018-01-12</td>\n",
       "      <td>2.55</td>\n",
       "      <td>17850.0</td>\n",
       "      <td>United Kingdom</td>\n",
       "      <td>1/12/2018 08:26</td>\n",
       "      <td>2018-01-12</td>\n",
       "      <td>43.7705</td>\n",
       "    </tr>\n",
       "    <tr>\n",
       "      <th>1</th>\n",
       "      <td>536365</td>\n",
       "      <td>71053</td>\n",
       "      <td>WHITE METAL LANTERN</td>\n",
       "      <td>6</td>\n",
       "      <td>2018-01-12</td>\n",
       "      <td>3.39</td>\n",
       "      <td>17850.0</td>\n",
       "      <td>United Kingdom</td>\n",
       "      <td>1/12/2018 08:26</td>\n",
       "      <td>2018-01-12</td>\n",
       "      <td>43.7705</td>\n",
       "    </tr>\n",
       "    <tr>\n",
       "      <th>2</th>\n",
       "      <td>536365</td>\n",
       "      <td>84406B</td>\n",
       "      <td>CREAM CUPID HEARTS COAT HANGER</td>\n",
       "      <td>8</td>\n",
       "      <td>2018-01-12</td>\n",
       "      <td>2.75</td>\n",
       "      <td>17850.0</td>\n",
       "      <td>United Kingdom</td>\n",
       "      <td>1/12/2018 08:26</td>\n",
       "      <td>2018-01-12</td>\n",
       "      <td>43.7705</td>\n",
       "    </tr>\n",
       "    <tr>\n",
       "      <th>3</th>\n",
       "      <td>536365</td>\n",
       "      <td>84029G</td>\n",
       "      <td>KNITTED UNION FLAG HOT WATER BOTTLE</td>\n",
       "      <td>6</td>\n",
       "      <td>2018-01-12</td>\n",
       "      <td>3.39</td>\n",
       "      <td>17850.0</td>\n",
       "      <td>United Kingdom</td>\n",
       "      <td>1/12/2018 08:26</td>\n",
       "      <td>2018-01-12</td>\n",
       "      <td>43.7705</td>\n",
       "    </tr>\n",
       "    <tr>\n",
       "      <th>4</th>\n",
       "      <td>536365</td>\n",
       "      <td>84029E</td>\n",
       "      <td>RED WOOLLY HOTTIE WHITE HEART.</td>\n",
       "      <td>6</td>\n",
       "      <td>2018-01-12</td>\n",
       "      <td>3.39</td>\n",
       "      <td>17850.0</td>\n",
       "      <td>United Kingdom</td>\n",
       "      <td>1/12/2018 08:26</td>\n",
       "      <td>2018-01-12</td>\n",
       "      <td>43.7705</td>\n",
       "    </tr>\n",
       "    <tr>\n",
       "      <th>...</th>\n",
       "      <td>...</td>\n",
       "      <td>...</td>\n",
       "      <td>...</td>\n",
       "      <td>...</td>\n",
       "      <td>...</td>\n",
       "      <td>...</td>\n",
       "      <td>...</td>\n",
       "      <td>...</td>\n",
       "      <td>...</td>\n",
       "      <td>...</td>\n",
       "      <td>...</td>\n",
       "    </tr>\n",
       "    <tr>\n",
       "      <th>161326</th>\n",
       "      <td>550638</td>\n",
       "      <td>22960</td>\n",
       "      <td>JAM MAKING SET WITH JARS</td>\n",
       "      <td>1</td>\n",
       "      <td>2019-04-19</td>\n",
       "      <td>8.29</td>\n",
       "      <td>NaN</td>\n",
       "      <td>United Kingdom</td>\n",
       "      <td>19/4/2019 15:44</td>\n",
       "      <td>2019-04-19</td>\n",
       "      <td>41.3622</td>\n",
       "    </tr>\n",
       "    <tr>\n",
       "      <th>161327</th>\n",
       "      <td>550638</td>\n",
       "      <td>22961</td>\n",
       "      <td>JAM MAKING SET PRINTED</td>\n",
       "      <td>1</td>\n",
       "      <td>2019-04-19</td>\n",
       "      <td>1.45</td>\n",
       "      <td>NaN</td>\n",
       "      <td>United Kingdom</td>\n",
       "      <td>19/4/2019 15:44</td>\n",
       "      <td>2019-04-19</td>\n",
       "      <td>41.3622</td>\n",
       "    </tr>\n",
       "    <tr>\n",
       "      <th>161328</th>\n",
       "      <td>550638</td>\n",
       "      <td>22978</td>\n",
       "      <td>PANTRY ROLLING PIN</td>\n",
       "      <td>1</td>\n",
       "      <td>2019-04-19</td>\n",
       "      <td>7.46</td>\n",
       "      <td>NaN</td>\n",
       "      <td>United Kingdom</td>\n",
       "      <td>19/4/2019 15:44</td>\n",
       "      <td>2019-04-19</td>\n",
       "      <td>41.3622</td>\n",
       "    </tr>\n",
       "    <tr>\n",
       "      <th>161329</th>\n",
       "      <td>550638</td>\n",
       "      <td>22982</td>\n",
       "      <td>PANTRY PASTRY BRUSH</td>\n",
       "      <td>1</td>\n",
       "      <td>2019-04-19</td>\n",
       "      <td>2.46</td>\n",
       "      <td>NaN</td>\n",
       "      <td>United Kingdom</td>\n",
       "      <td>19/4/2019 15:44</td>\n",
       "      <td>2019-04-19</td>\n",
       "      <td>41.3622</td>\n",
       "    </tr>\n",
       "    <tr>\n",
       "      <th>161330</th>\n",
       "      <td>550638</td>\n",
       "      <td>23193</td>\n",
       "      <td>BUFFALO BILL TREASURE BOOK BOX</td>\n",
       "      <td>1</td>\n",
       "      <td>2019-04-19</td>\n",
       "      <td>4.58</td>\n",
       "      <td>NaN</td>\n",
       "      <td>United Kingdom</td>\n",
       "      <td>19/4/2019 15:44</td>\n",
       "      <td>2019-04-19</td>\n",
       "      <td>41.3622</td>\n",
       "    </tr>\n",
       "  </tbody>\n",
       "</table>\n",
       "<p>161331 rows × 11 columns</p>\n",
       "</div>"
      ],
      "text/plain": [
       "        InvoiceNo StockCode                          Description  Quantity  \\\n",
       "0          536365    85123A   WHITE HANGING HEART T-LIGHT HOLDER         6   \n",
       "1          536365     71053                  WHITE METAL LANTERN         6   \n",
       "2          536365    84406B       CREAM CUPID HEARTS COAT HANGER         8   \n",
       "3          536365    84029G  KNITTED UNION FLAG HOT WATER BOTTLE         6   \n",
       "4          536365    84029E       RED WOOLLY HOTTIE WHITE HEART.         6   \n",
       "...           ...       ...                                  ...       ...   \n",
       "161326     550638     22960             JAM MAKING SET WITH JARS         1   \n",
       "161327     550638     22961               JAM MAKING SET PRINTED         1   \n",
       "161328     550638     22978                   PANTRY ROLLING PIN         1   \n",
       "161329     550638     22982                  PANTRY PASTRY BRUSH         1   \n",
       "161330     550638     23193       BUFFALO BILL TREASURE BOOK BOX         1   \n",
       "\n",
       "       InvoiceDate  UnitPrice  CustomerID         Country InvoiceTimestamp  \\\n",
       "0       2018-01-12       2.55     17850.0  United Kingdom  1/12/2018 08:26   \n",
       "1       2018-01-12       3.39     17850.0  United Kingdom  1/12/2018 08:26   \n",
       "2       2018-01-12       2.75     17850.0  United Kingdom  1/12/2018 08:26   \n",
       "3       2018-01-12       3.39     17850.0  United Kingdom  1/12/2018 08:26   \n",
       "4       2018-01-12       3.39     17850.0  United Kingdom  1/12/2018 08:26   \n",
       "...            ...        ...         ...             ...              ...   \n",
       "161326  2019-04-19       8.29         NaN  United Kingdom  19/4/2019 15:44   \n",
       "161327  2019-04-19       1.45         NaN  United Kingdom  19/4/2019 15:44   \n",
       "161328  2019-04-19       7.46         NaN  United Kingdom  19/4/2019 15:44   \n",
       "161329  2019-04-19       2.46         NaN  United Kingdom  19/4/2019 15:44   \n",
       "161330  2019-04-19       4.58         NaN  United Kingdom  19/4/2019 15:44   \n",
       "\n",
       "              date     Rate  \n",
       "0       2018-01-12  43.7705  \n",
       "1       2018-01-12  43.7705  \n",
       "2       2018-01-12  43.7705  \n",
       "3       2018-01-12  43.7705  \n",
       "4       2018-01-12  43.7705  \n",
       "...            ...      ...  \n",
       "161326  2019-04-19  41.3622  \n",
       "161327  2019-04-19  41.3622  \n",
       "161328  2019-04-19  41.3622  \n",
       "161329  2019-04-19  41.3622  \n",
       "161330  2019-04-19  41.3622  \n",
       "\n",
       "[161331 rows x 11 columns]"
      ]
     },
     "execution_count": 71,
     "metadata": {},
     "output_type": "execute_result"
    }
   ],
   "source": [
    "# รวม 2 dataframe เข้าด้วยกันด้วยคำสั่ง merge\n",
    "final_df = retail.merge(conversion_rate, how=\"left\", left_on=\"InvoiceDate\", right_on=\"date\")\n",
    "final_df"
   ]
  },
  {
   "cell_type": "markdown",
   "metadata": {
    "colab_type": "text",
    "id": "p3MRdJ0hQuVm"
   },
   "source": [
    "พอ join ข้อมูลได้แล้ว เราก็ มา คูณ currency conversion กัน (UnitPrice * Rate)"
   ]
  },
  {
   "cell_type": "code",
   "execution_count": 76,
   "metadata": {
    "colab": {},
    "colab_type": "code",
    "id": "VzoKQqnGQ7cO"
   },
   "outputs": [
    {
     "data": {
      "text/html": [
       "<div>\n",
       "<style scoped>\n",
       "    .dataframe tbody tr th:only-of-type {\n",
       "        vertical-align: middle;\n",
       "    }\n",
       "\n",
       "    .dataframe tbody tr th {\n",
       "        vertical-align: top;\n",
       "    }\n",
       "\n",
       "    .dataframe thead th {\n",
       "        text-align: right;\n",
       "    }\n",
       "</style>\n",
       "<table border=\"1\" class=\"dataframe\">\n",
       "  <thead>\n",
       "    <tr style=\"text-align: right;\">\n",
       "      <th></th>\n",
       "      <th>InvoiceNo</th>\n",
       "      <th>StockCode</th>\n",
       "      <th>Description</th>\n",
       "      <th>Quantity</th>\n",
       "      <th>InvoiceDate</th>\n",
       "      <th>UnitPrice</th>\n",
       "      <th>CustomerID</th>\n",
       "      <th>Country</th>\n",
       "      <th>InvoiceTimestamp</th>\n",
       "      <th>date</th>\n",
       "      <th>Rate</th>\n",
       "      <th>THBPrice</th>\n",
       "    </tr>\n",
       "  </thead>\n",
       "  <tbody>\n",
       "    <tr>\n",
       "      <th>0</th>\n",
       "      <td>536365</td>\n",
       "      <td>85123A</td>\n",
       "      <td>WHITE HANGING HEART T-LIGHT HOLDER</td>\n",
       "      <td>6</td>\n",
       "      <td>2018-01-12</td>\n",
       "      <td>2.55</td>\n",
       "      <td>17850.0</td>\n",
       "      <td>United Kingdom</td>\n",
       "      <td>1/12/2018 08:26</td>\n",
       "      <td>2018-01-12</td>\n",
       "      <td>43.7705</td>\n",
       "      <td>111.614775</td>\n",
       "    </tr>\n",
       "    <tr>\n",
       "      <th>1</th>\n",
       "      <td>536365</td>\n",
       "      <td>71053</td>\n",
       "      <td>WHITE METAL LANTERN</td>\n",
       "      <td>6</td>\n",
       "      <td>2018-01-12</td>\n",
       "      <td>3.39</td>\n",
       "      <td>17850.0</td>\n",
       "      <td>United Kingdom</td>\n",
       "      <td>1/12/2018 08:26</td>\n",
       "      <td>2018-01-12</td>\n",
       "      <td>43.7705</td>\n",
       "      <td>148.381995</td>\n",
       "    </tr>\n",
       "    <tr>\n",
       "      <th>2</th>\n",
       "      <td>536365</td>\n",
       "      <td>84406B</td>\n",
       "      <td>CREAM CUPID HEARTS COAT HANGER</td>\n",
       "      <td>8</td>\n",
       "      <td>2018-01-12</td>\n",
       "      <td>2.75</td>\n",
       "      <td>17850.0</td>\n",
       "      <td>United Kingdom</td>\n",
       "      <td>1/12/2018 08:26</td>\n",
       "      <td>2018-01-12</td>\n",
       "      <td>43.7705</td>\n",
       "      <td>120.368875</td>\n",
       "    </tr>\n",
       "    <tr>\n",
       "      <th>3</th>\n",
       "      <td>536365</td>\n",
       "      <td>84029G</td>\n",
       "      <td>KNITTED UNION FLAG HOT WATER BOTTLE</td>\n",
       "      <td>6</td>\n",
       "      <td>2018-01-12</td>\n",
       "      <td>3.39</td>\n",
       "      <td>17850.0</td>\n",
       "      <td>United Kingdom</td>\n",
       "      <td>1/12/2018 08:26</td>\n",
       "      <td>2018-01-12</td>\n",
       "      <td>43.7705</td>\n",
       "      <td>148.381995</td>\n",
       "    </tr>\n",
       "    <tr>\n",
       "      <th>4</th>\n",
       "      <td>536365</td>\n",
       "      <td>84029E</td>\n",
       "      <td>RED WOOLLY HOTTIE WHITE HEART.</td>\n",
       "      <td>6</td>\n",
       "      <td>2018-01-12</td>\n",
       "      <td>3.39</td>\n",
       "      <td>17850.0</td>\n",
       "      <td>United Kingdom</td>\n",
       "      <td>1/12/2018 08:26</td>\n",
       "      <td>2018-01-12</td>\n",
       "      <td>43.7705</td>\n",
       "      <td>148.381995</td>\n",
       "    </tr>\n",
       "  </tbody>\n",
       "</table>\n",
       "</div>"
      ],
      "text/plain": [
       "   InvoiceNo StockCode                          Description  Quantity  \\\n",
       "0     536365    85123A   WHITE HANGING HEART T-LIGHT HOLDER         6   \n",
       "1     536365     71053                  WHITE METAL LANTERN         6   \n",
       "2     536365    84406B       CREAM CUPID HEARTS COAT HANGER         8   \n",
       "3     536365    84029G  KNITTED UNION FLAG HOT WATER BOTTLE         6   \n",
       "4     536365    84029E       RED WOOLLY HOTTIE WHITE HEART.         6   \n",
       "\n",
       "  InvoiceDate  UnitPrice  CustomerID         Country InvoiceTimestamp  \\\n",
       "0  2018-01-12       2.55     17850.0  United Kingdom  1/12/2018 08:26   \n",
       "1  2018-01-12       3.39     17850.0  United Kingdom  1/12/2018 08:26   \n",
       "2  2018-01-12       2.75     17850.0  United Kingdom  1/12/2018 08:26   \n",
       "3  2018-01-12       3.39     17850.0  United Kingdom  1/12/2018 08:26   \n",
       "4  2018-01-12       3.39     17850.0  United Kingdom  1/12/2018 08:26   \n",
       "\n",
       "         date     Rate    THBPrice  \n",
       "0  2018-01-12  43.7705  111.614775  \n",
       "1  2018-01-12  43.7705  148.381995  \n",
       "2  2018-01-12  43.7705  120.368875  \n",
       "3  2018-01-12  43.7705  148.381995  \n",
       "4  2018-01-12  43.7705  148.381995  "
      ]
     },
     "execution_count": 76,
     "metadata": {},
     "output_type": "execute_result"
    }
   ],
   "source": [
    "# TODO: เพิ่ม column 'THBPrice' ที่เกิดจาก column UnitPrice * Rate\n",
    "# Hint: ลองดู apply function ของ pandas\n",
    "def conversion_rate(price, unit):\n",
    "    return price * unit\n",
    "final_df['THBPrice'] = final_df.apply(lambda x: conversion_rate(x['UnitPrice'], x['Rate']), axis=1)\n",
    "final_df.head()\n"
   ]
  },
  {
   "cell_type": "markdown",
   "metadata": {
    "colab_type": "text",
    "id": "wtek5AhSwXDi"
   },
   "source": [
    "## Save to CSV"
   ]
  },
  {
   "cell_type": "code",
   "execution_count": 77,
   "metadata": {
    "colab": {},
    "colab_type": "code",
    "id": "LNsNcinqTDfg"
   },
   "outputs": [],
   "source": [
    "# TODO: save \"to csv\" file\n",
    "final_df.to_csv(\"output.csv\", index=False)\n"
   ]
  },
  {
   "cell_type": "markdown",
   "metadata": {
    "colab_type": "text",
    "id": "LSI8bGhdTTa4"
   },
   "source": [
    "<== กด ไอคอนรูป ไฟล์ ที่แถบด้านซ้ายเพื่อดูไฟล์ที่เซฟอยู่ใน directory :)\n",
    "\n",
    "ลองกด Download มาดูได้"
   ]
  },
  {
   "cell_type": "code",
   "execution_count": 78,
   "metadata": {
    "colab": {},
    "colab_type": "code",
    "id": "oemAbfLu9RNH"
   },
   "outputs": [
    {
     "name": "stdout",
     "output_type": "stream",
     "text": [
      "== End of Workshop 1 ʕ•́ᴥ•̀ʔっ♡ ==\n"
     ]
    }
   ],
   "source": [
    "print(\"== End of Workshop 1 ʕ•́ᴥ•̀ʔっ♡ ==\")"
   ]
  },
  {
   "cell_type": "code",
   "execution_count": null,
   "metadata": {},
   "outputs": [],
   "source": []
  }
 ],
 "metadata": {
  "colab": {
   "collapsed_sections": [],
   "name": "Workshop1 - Data Collection.ipynb",
   "provenance": [],
   "toc_visible": true
  },
  "kernelspec": {
   "display_name": "Python 3",
   "language": "python",
   "name": "python3"
  },
  "language_info": {
   "codemirror_mode": {
    "name": "ipython",
    "version": 3
   },
   "file_extension": ".py",
   "mimetype": "text/x-python",
   "name": "python",
   "nbconvert_exporter": "python",
   "pygments_lexer": "ipython3",
   "version": "3.7.6"
  }
 },
 "nbformat": 4,
 "nbformat_minor": 1
}
