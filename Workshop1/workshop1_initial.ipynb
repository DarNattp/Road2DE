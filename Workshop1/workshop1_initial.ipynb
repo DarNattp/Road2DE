{
  "nbformat": 4,
  "nbformat_minor": 0,
  "metadata": {
    "colab": {
      "name": "Workshop1 - Data Collection.ipynb",
      "provenance": [],
      "collapsed_sections": [],
      "toc_visible": true
    },
    "kernelspec": {
      "name": "python3",
      "display_name": "Python 3"
    }
  },
  "cells": [
    {
      "cell_type": "markdown",
      "metadata": {
        "id": "IRz06BvaPvio",
        "colab_type": "text"
      },
      "source": [
        "# Data Collection: มาเก็บรวบรวมข้อมูลจากแหล่งต่าง ๆ (DB & REST API) กันเถอะ!"
      ]
    },
    {
      "cell_type": "markdown",
      "metadata": {
        "id": "TiWl_xR-ffPb",
        "colab_type": "text"
      },
      "source": [
        "# Get data from MySQL database"
      ]
    },
    {
      "cell_type": "markdown",
      "metadata": {
        "id": "RwfG6lNbiO4d",
        "colab_type": "text"
      },
      "source": [
        "## Install PyMySQL \n",
        "ซึ่งเป็น package สำหรับเชื่อมต่อ MySQL database"
      ]
    },
    {
      "cell_type": "code",
      "metadata": {
        "id": "8drOFF__cMAH",
        "colab_type": "code",
        "colab": {}
      },
      "source": [
        "! pip install pymysql; print('hi')"
      ],
      "execution_count": 0,
      "outputs": []
    },
    {
      "cell_type": "markdown",
      "metadata": {
        "id": "Cq7EWelaiWlO",
        "colab_type": "text"
      },
      "source": [
        "## Config DB credential\n",
        "ಥ_ಥ  คำเตือน: Cell ด้านล่างนี้เป็นความลับสุดยอด เขียนขึ้นมาเพื่อให้เห็นวิธีการในการเชื่อมต่อ database เท่านั้น **ห้ามเอา \"plain text\"แบบนี้ไปใช้ในชีวิตจริง**\n",
        "\n",
        "มีข้อปฏิบัติในการเก็บรักษาไฟล์ที่เป็นความลับ (secret) ดังนี้\n",
        "*   **ห้าม**เขียน credential (ความลับ) ลงมาใน code ตรง ๆ\n",
        "*   **ห้าม** commit credential ลง Git เด็ดขาด\n",
        "*   credential ควรเป็น environment variable / ไฟล์ .env / หรือ config file ที่เหมาะสม\n",
        "*   **ห้าม** commit config file หรือ .env ไฟล์ดังกล่าวขึ้น Git ด้วย\n",
        "*   ควรใช้ระบบ secret management เพื่อเก็บ credential อย่างปลอดภัย เช่น Vault หรือ Secret Manager\n",
        "*   การขัดต่อคำแนะนำตามที่กล่าวมาถือว่าบาป\n",
        "\n"
      ]
    },
    {
      "cell_type": "code",
      "metadata": {
        "id": "0olv0dV9lCp_",
        "colab_type": "code",
        "colab": {}
      },
      "source": [
        "# TODO: ยอมเป็นคนบาปเพื่อการเรียนรู้\n",
        "class Config:\n",
        "  MYSQL_HOST = \n",
        "  MYSQL_PORT = 3306  # default port ของ MySQL คือ 3306\n",
        "  MYSQL_USER = \n",
        "  MYSQL_PASSWORD = \n",
        "  MYSQL_DB = \n",
        "  MYSQL_CHARSET = 'utf8mb4'"
      ],
      "execution_count": 0,
      "outputs": []
    },
    {
      "cell_type": "markdown",
      "metadata": {
        "id": "Me00m6uBleCK",
        "colab_type": "text"
      },
      "source": [
        "## Connect to DB\n",
        "หลังจากที่มี Credential ของ database แล้วก็ connectโลด"
      ]
    },
    {
      "cell_type": "code",
      "metadata": {
        "id": "nKxxuMyOltG3",
        "colab_type": "code",
        "colab": {}
      },
      "source": [
        "import pymysql.cursors\n",
        "\n",
        "# Connect to the database\n",
        "connection = pymysql.connect(host=Config.MYSQL_HOST,\n",
        "                             port=Config.MYSQL_PORT,\n",
        "                             user=Config.MYSQL_USER,\n",
        "                             password=Config.MYSQL_PASSWORD,\n",
        "                             db=Config.MYSQL_DB,\n",
        "                             charset=Config.MYSQL_CHARSET,\n",
        "                             cursorclass=pymysql.cursors.DictCursor)"
      ],
      "execution_count": 0,
      "outputs": []
    },
    {
      "cell_type": "markdown",
      "metadata": {
        "id": "KorYr23fmGkb",
        "colab_type": "text"
      },
      "source": [
        "ตัวแปร connection นี้ เราได้ connect ต่อเข้ากับ database เอาไว้แล้ว\n",
        "## List Tables\n",
        "เรามาลองดูกันว่ามี table อะไรในนั้นบ้าง"
      ]
    },
    {
      "cell_type": "code",
      "metadata": {
        "id": "nDCAHpiMnswl",
        "colab_type": "code",
        "colab": {}
      },
      "source": [
        "# list all tables\n",
        "cursor = connection.cursor()\n",
        "cursor.execute(\"show tables;\")\n",
        "tables = cursor.fetchall()\n",
        "cursor.close()\n",
        "print(tables)"
      ],
      "execution_count": 0,
      "outputs": []
    },
    {
      "cell_type": "markdown",
      "metadata": {
        "id": "44XAeezhn5g8",
        "colab_type": "text"
      },
      "source": [
        "จากโค้ดตัวอย่างด้านบนจะเห็นได้ว่า การคิวรี่ database ทุกครั้ง เราจะต้องสร้าง `cursor` ขึ้นมาเพื่อ query SQL นั้น แล้วก็ปิด cursor ทุกครั้งหลังจบ \n",
        "\n",
        "(เหตุผลเป็นไปตามการออกแบบ database สามารถ[อ่านเกี่ยวกับ cursor เพิ่มเติมได้ที่นี่](https://en.wikipedia.org/wiki/Cursor_(databases)))\n",
        "\n",
        "ดังนั้น จึงนิยมใช้คำสั่ง `with` ในการจัดการสร้าง cursor ขึ้นมา เมื่อจบคำสั่ง cursor จะถูก close ไปเองโดยอัตโนมัติเมื่อออกนอก scope ของ `with`"
      ]
    },
    {
      "cell_type": "markdown",
      "metadata": {
        "id": "iF4KnPH2phaN",
        "colab_type": "text"
      },
      "source": [
        "༼ つ ◕_◕ ༽つ *ขอความกรุณาไม่ drop database หรือลบ data ออก เพราะ database นี้ใช้กันหลายคน :-)*\n",
        "\n",
        "## Query Table"
      ]
    },
    {
      "cell_type": "code",
      "metadata": {
        "id": "Iemb303DmFG7",
        "colab_type": "code",
        "colab": {}
      },
      "source": [
        "# ใข้ with statement แทน cursor.close()\n",
        "# TODO: มาลอง Query ข้อมูลจาก table online_retail ดูกัน\n",
        "\n",
        "with connection.cursor() as cursor:\n",
        "  # Read a single record\n",
        "  sql = \"-- ༼ つ ◕_◕ ༽つ remove me. I'm a comment\"\n",
        "  cursor.execute(sql)\n",
        "  result = cursor.fetchall()\n",
        "\n",
        "print(\"number of rows: \", len(result), \"⁀⊙﹏☉⁀\")"
      ],
      "execution_count": 0,
      "outputs": []
    },
    {
      "cell_type": "markdown",
      "metadata": {
        "id": "kwYVG6a8l4hN",
        "colab_type": "text"
      },
      "source": [
        "Row เยอะแบบนี้ print ออกมาดูไม่ได้\n",
        "\n",
        "ใช้งานลำบากอีก ขอแนะนำว่า `Pandas` ช่วยคุณได้ ʕ•́ᴥ•̀ʔ\n",
        "\n",
        "## Convert to Pandas"
      ]
    },
    {
      "cell_type": "code",
      "metadata": {
        "id": "dQn-mQ49so4L",
        "colab_type": "code",
        "colab": {}
      },
      "source": [
        "import pandas as pd"
      ],
      "execution_count": 0,
      "outputs": []
    },
    {
      "cell_type": "code",
      "metadata": {
        "id": "OKbf9_qCts4D",
        "colab_type": "code",
        "colab": {}
      },
      "source": [
        "retail = pd.DataFrame(result_retail)"
      ],
      "execution_count": 0,
      "outputs": []
    },
    {
      "cell_type": "markdown",
      "metadata": {
        "id": "DPnnyI9HskCk",
        "colab_type": "text"
      },
      "source": [
        "อ่าว เสร็จแล้วเหรอ ง่ายจัง ( ❛ ᴗ ❛ )\n",
        "\n",
        "เราก็ได้ data ของเรามาแล้ว"
      ]
    },
    {
      "cell_type": "code",
      "metadata": {
        "id": "O8TWjiZvtzzd",
        "colab_type": "code",
        "colab": {}
      },
      "source": [
        ""
      ],
      "execution_count": 0,
      "outputs": []
    },
    {
      "cell_type": "markdown",
      "metadata": {
        "id": "vni1aTvqe1dY",
        "colab_type": "text"
      },
      "source": [
        "\n",
        "\n",
        "---\n",
        "\n",
        "\n",
        "# Get data from REST API"
      ]
    },
    {
      "cell_type": "markdown",
      "metadata": {
        "id": "9TJU3-dCl1_D",
        "colab_type": "text"
      },
      "source": [
        "หลังจากต่อกับ Database แล้ว ก็มายิ่ง REST API กัน"
      ]
    },
    {
      "cell_type": "markdown",
      "metadata": {
        "id": "K5NLiqJDcNSS",
        "colab_type": "text"
      },
      "source": [
        "Package `requests` ใช้สำหรับการยิง REST API\n",
        "\n",
        "(โดยปกติต้อง install package นี้เพิ่มเติม แต่ colab pre-install ไว้อยู่แล้ว)\n",
        "\n",
        "วิธีการ install: `pip install requests`"
      ]
    },
    {
      "cell_type": "code",
      "metadata": {
        "id": "OFIraFVkb2g3",
        "colab_type": "code",
        "colab": {}
      },
      "source": [
        "import requests"
      ],
      "execution_count": 0,
      "outputs": []
    },
    {
      "cell_type": "markdown",
      "metadata": {
        "id": "0qE0ieb6b7oe",
        "colab_type": "text"
      },
      "source": [
        "ลองคลิกดูผลลัพธ์ผ่าน web browser ได้ [Currency conversion API](https://de-training-2020-7au6fmnprq-de.a.run.app/currency_gbp/all) \n",
        "\n",
        "ผลลัพธ์ที่ return กลับมาจะเป็นประเภท JSON\n",
        "จึงต้องใช้ package `json` (built-in) เพื่อโหลดข้อมูลเป็น dictionary\n",
        "\n",
        "การที่เราสามารถยิง request และ output ออกมาได้เลยโดยที่ไม่ต้องสร้าง payload เพิ่ม ดังตัวอย่างนี้ เรียกว่า HTTP GET (ในกรณีอื่น ๆ สามารถเพิ่ม arguement หรือ query string เข้าไปใน URL ได้)\n",
        "\n",
        "## Requests library\n",
        "สามารถศึกษาวิธีการสร้าง request และการใช้งาน package `requests` [ได้ที่นี่](https://requests.readthedocs.io/en/master/)"
      ]
    },
    {
      "cell_type": "code",
      "metadata": {
        "id": "mID4KWhzcinC",
        "colab_type": "code",
        "colab": {}
      },
      "source": [
        "url = \"https://de-training-2020-7au6fmnprq-de.a.run.app/currency_gbp/all\"\n",
        "# TODO: ลองศึกษาวิธีการใช้งาน package requests จากลิ้งค์ด้านบน แล้วลองเขียนโค้ดเพื่อ call URL นี้\n",
        "\n"
      ],
      "execution_count": 0,
      "outputs": []
    },
    {
      "cell_type": "markdown",
      "metadata": {
        "id": "AdlBxdY_g4eP",
        "colab_type": "text"
      },
      "source": [
        "มาดูประเภทข้อมูลกัน"
      ]
    },
    {
      "cell_type": "code",
      "metadata": {
        "id": "XjVRTATxRSOc",
        "colab_type": "code",
        "colab": {}
      },
      "source": [
        "type(response.text)"
      ],
      "execution_count": 0,
      "outputs": []
    },
    {
      "cell_type": "markdown",
      "metadata": {
        "id": "SupEh-Nnf-vx",
        "colab_type": "text"
      },
      "source": [
        "## JSON loading\n",
        "แต่ JSON ที่เราเห็นมันเป็นเพียงแค่ string\n",
        "\n",
        "เราจะแปลง string ให้กลายเป็น dictionary!\n",
        "\n",
        "เราเลยต้อง import `json` (built-in package)"
      ]
    },
    {
      "cell_type": "code",
      "metadata": {
        "id": "nJ7Y156kf-An",
        "colab_type": "code",
        "colab": {}
      },
      "source": [
        "import json"
      ],
      "execution_count": 0,
      "outputs": []
    },
    {
      "cell_type": "markdown",
      "metadata": {
        "id": "WWpo8S1QgdEL",
        "colab_type": "text"
      },
      "source": [
        "มาดูวิธีการใช้เลยดีกว่า สามารถกดดู help แบบนี้ได้ สำหรับ Jupyter notebook สะดวกสุด ๆ"
      ]
    },
    {
      "cell_type": "code",
      "metadata": {
        "id": "Ji4QXuDbgSY4",
        "colab_type": "code",
        "colab": {}
      },
      "source": [
        "? json"
      ],
      "execution_count": 0,
      "outputs": []
    },
    {
      "cell_type": "code",
      "metadata": {
        "id": "iIsMgva_Py-n",
        "colab_type": "code",
        "colab": {}
      },
      "source": [
        "# TODO: ลองอ่าน string JSON ที่ได้รับ ให้กลายเป็น dictionary\n",
        "# result ="
      ],
      "execution_count": 0,
      "outputs": []
    },
    {
      "cell_type": "markdown",
      "metadata": {
        "id": "KbGeUEVXR5Ye",
        "colab_type": "text"
      },
      "source": [
        "มาเช็คประเภทข้อมูล"
      ]
    },
    {
      "cell_type": "code",
      "metadata": {
        "id": "qgIGR8KoQOdB",
        "colab_type": "code",
        "colab": {}
      },
      "source": [
        "print(type(result_conversion_rate))\n",
        "assert isinstance(result_conversion_rate, dict)"
      ],
      "execution_count": 0,
      "outputs": []
    },
    {
      "cell_type": "markdown",
      "metadata": {
        "id": "Rxp9qo9OvbfO",
        "colab_type": "text"
      },
      "source": [
        " ## Convert to Pandas\n",
        " แปลงกันอีกครั้งหนึ่ง ʕ•́ᴥ•̀ʔ"
      ]
    },
    {
      "cell_type": "code",
      "metadata": {
        "id": "QNcga24QusdA",
        "colab_type": "code",
        "colab": {}
      },
      "source": [
        "conversion_rate = pd.DataFrame.from_dict(result_conversion_rate)"
      ],
      "execution_count": 0,
      "outputs": []
    },
    {
      "cell_type": "code",
      "metadata": {
        "id": "OoSiYqpWJDii",
        "colab_type": "code",
        "colab": {}
      },
      "source": [
        "conversion_rate[:3]"
      ],
      "execution_count": 0,
      "outputs": []
    },
    {
      "cell_type": "code",
      "metadata": {
        "id": "-RqNiXKmJDhC",
        "colab_type": "code",
        "colab": {}
      },
      "source": [
        "conversion_rate = conversion_rate.reset_index().rename(columns={\"index\":\"date\"})\n",
        "conversion_rate[:3]"
      ],
      "execution_count": 0,
      "outputs": []
    },
    {
      "cell_type": "code",
      "metadata": {
        "id": "A--M8efzJW9F",
        "colab_type": "code",
        "colab": {}
      },
      "source": [
        "conversion_rate[:3]"
      ],
      "execution_count": 0,
      "outputs": []
    },
    {
      "cell_type": "markdown",
      "metadata": {
        "id": "0NmC2QcQwFMz",
        "colab_type": "text"
      },
      "source": [
        "ที่ต้องใช้ `.from_dict()` เพราะว่า ข้อมูลมี key ที่แตกต่างกันออกไป คือ index ที่เป็นเวลา เพราะฉะนั้น `.from_dict()` จึงเข้ามาช่วนการโหลดข้อมูลลักษณะแบบนี้"
      ]
    },
    {
      "cell_type": "markdown",
      "metadata": {
        "id": "-YEnRnb7vOER",
        "colab_type": "text"
      },
      "source": [
        "# Join the data"
      ]
    },
    {
      "cell_type": "markdown",
      "metadata": {
        "id": "QEGJeMebvTXD",
        "colab_type": "text"
      },
      "source": [
        "ในตอนนี้เราจะนำข้อมูลการซื้อขายและข้อมูล Rate การแปลงค่าเงิน เราจะรวมข้อมูลจากทั้งสอง Dataframe มารวมกัน\n",
        "\n",
        "เราจะนำข้อมูลจากทั้งสองมารวมกันผ่าน column InvoiceDate ใน retail และ date ใน conversion_rate \n",
        "\n",
        "แต่ถ้าสังเกตดี ๆ แล้วจะพบว่า InvoiceDate ใน retail จะเก็บข้อมูลในรูปแบบ datetime ส่วน date ใน conversion_rate จะเก็บข้อมูลในรูปแบบ timestamp ที่ส่วนเวลาเป็นเวลา 00:00:00 ทั้งหมด"
      ]
    },
    {
      "cell_type": "code",
      "metadata": {
        "colab_type": "code",
        "id": "jizZTTbblbC-",
        "colab": {}
      },
      "source": [
        "# ก็อปปี้ column InvoiceDate เก็บเอาไว้ เผื่อได้ใช้ในอนาคต (อันใกล้) --> ไม่งั้นข้อมูล timestamp ของเราจะหายไป ಥ_ಥ\n",
        "retail['InvoiceTimestamp'] = retail['InvoiceDate']"
      ],
      "execution_count": 0,
      "outputs": []
    },
    {
      "cell_type": "code",
      "metadata": {
        "id": "ns3DWsatNnA5",
        "colab_type": "code",
        "colab": {}
      },
      "source": [
        "# แปลงให้ InvoiceDate ใน retail กับ date ใน conversion_rate มีเฉพาะส่วน date ก่อน\n",
        "retail['InvoiceDate'] = pd.to_datetime(retail['InvoiceDate']).dt.date\n",
        "conversion_rate['date'] = pd.to_datetime(conversion_rate['date']).dt.date"
      ],
      "execution_count": 0,
      "outputs": []
    },
    {
      "cell_type": "code",
      "metadata": {
        "id": "qzQvG2XB9map",
        "colab_type": "code",
        "colab": {}
      },
      "source": [
        "# รวม 2 dataframe เข้าด้วยกันด้วยคำสั่ง merge\n",
        "final_df = retail.merge(conversion_rate, how=\"left\", left_on=\"InvoiceDate\", right_on=\"date\")\n",
        "final_df"
      ],
      "execution_count": 0,
      "outputs": []
    },
    {
      "cell_type": "markdown",
      "metadata": {
        "id": "p3MRdJ0hQuVm",
        "colab_type": "text"
      },
      "source": [
        "พอ join ข้อมูลได้แล้ว เราก็ มา คูณ currency conversion กัน (UnitPrice * Rate)"
      ]
    },
    {
      "cell_type": "code",
      "metadata": {
        "id": "VzoKQqnGQ7cO",
        "colab_type": "code",
        "colab": {}
      },
      "source": [
        "# TODO: เพิ่ม column 'THBPrice' ที่เกิดจาก column UnitPrice * Rate\n",
        "# Hint: ลองดู apply function ของ pandas\n",
        "\n"
      ],
      "execution_count": 0,
      "outputs": []
    },
    {
      "cell_type": "markdown",
      "metadata": {
        "id": "wtek5AhSwXDi",
        "colab_type": "text"
      },
      "source": [
        "## Save to CSV"
      ]
    },
    {
      "cell_type": "code",
      "metadata": {
        "id": "LNsNcinqTDfg",
        "colab_type": "code",
        "colab": {}
      },
      "source": [
        "# TODO: save \"to csv\" file\n",
        "\n"
      ],
      "execution_count": 0,
      "outputs": []
    },
    {
      "cell_type": "markdown",
      "metadata": {
        "id": "LSI8bGhdTTa4",
        "colab_type": "text"
      },
      "source": [
        "<== กด ไอคอนรูป ไฟล์ ที่แถบด้านซ้ายเพื่อดูไฟล์ที่เซฟอยู่ใน directory :)\n",
        "\n",
        "ลองกด Download มาดูได้"
      ]
    },
    {
      "cell_type": "code",
      "metadata": {
        "id": "oemAbfLu9RNH",
        "colab_type": "code",
        "colab": {}
      },
      "source": [
        "print(\"== End of Workshop 1 ʕ•́ᴥ•̀ʔっ♡ ==\")"
      ],
      "execution_count": 0,
      "outputs": []
    }
  ]
}